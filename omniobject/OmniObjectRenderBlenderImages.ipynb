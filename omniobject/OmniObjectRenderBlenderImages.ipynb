{
  "cells": [
    {
      "cell_type": "code",
      "execution_count": null,
      "metadata": {
        "id": "buuSLQMkj9nI"
      },
      "outputs": [],
      "source": [
        "#!pip install -U --no-cache-dir gdown --pre\n",
        "import gdown"
      ]
    },
    {
      "cell_type": "code",
      "execution_count": null,
      "metadata": {
        "colab": {
          "base_uri": "https://localhost:8080/"
        },
        "id": "m3u9h6ASkCaD",
        "outputId": "19b0fe0f-0f17-43ac-affa-271289aa4be1"
      },
      "outputs": [],
      "source": [
        "%cd '/content/'\n",
        "!mkdir 'blender_images'\n",
        "%cd '/content/blender_images'\n",
        "\n",
        "# 24 images\n",
        "# https://drive.google.com/file/d/1gL0JuKRz8sORNROpWGnmugGGybCIC8G7/view?usp=drive_link\n",
        "#url = 'https://drive.google.com/uc?id=1gL0JuKRz8sORNROpWGnmugGGybCIC8G7'\n",
        "\n",
        "# https://drive.google.com/file/d/1O1oB-wpN8uUYI3tRxyukqqDstaQA2OeI/view?usp=drive_link\n",
        "# Toy plane\n",
        "# https://drive.google.com/file/d/1yimVSn49rvJT-vcSvfJjhE9R4n0YY-Gp/view?usp=drive_link\n",
        "\n",
        "url = 'https://drive.google.com/uc?id=1yimVSn49rvJT-vcSvfJjhE9R4n0YY-Gp'\n",
        "\n",
        "output = 'toy_plane.tar.gz'\n",
        "gdown.download(url, output, quiet=False)\n",
        "\n",
        "!tar -xzf toy_plane.tar.gz"
      ]
    },
    {
      "cell_type": "code",
      "execution_count": null,
      "metadata": {
        "colab": {
          "base_uri": "https://localhost:8080/"
        },
        "id": "-UcSwmUgkZTw",
        "outputId": "4574379a-c122-46ac-d1d4-8d22f6822653"
      },
      "outputs": [],
      "source": [
        "# Install library\n",
        "%cd '/content/'\n",
        "!wget 'https://github.com/AcademySoftwareFoundation/Imath/releases/download/v3.1.11/Imath-3.1.11.tar.gz'\n",
        "!tar -xf 'Imath-3.1.11.tar.gz'\n",
        "!mkdir 'imath_build'\n",
        "!mkdir '/content/imath_install'\n",
        "%cd 'imath_build'\n",
        "!cmake '/content/Imath-3.1.11' --install-prefix '/content/imath_install'\n",
        "!make install\n",
        "\n",
        "!pip install open3d\n",
        "!pip install idebug\n",
        "!pip install openexr"
      ]
    },
    {
      "cell_type": "code",
      "execution_count": null,
      "metadata": {
        "id": "VD_talZ9mUXR"
      },
      "outputs": [],
      "source": [
        "import Imath\n",
        "import OpenEXR\n",
        "import argparse\n",
        "import array\n",
        "import numpy as np\n",
        "import os\n",
        "from open3d import *\n",
        "from open3d.geometry import Image\n",
        "from tqdm.notebook import tqdm"
      ]
    },
    {
      "cell_type": "code",
      "execution_count": null,
      "metadata": {
        "id": "b_zH8jz4m9Mv"
      },
      "outputs": [],
      "source": [
        "def read_exr(exr_path, height, width):\n",
        "    file = OpenEXR.InputFile(exr_path)\n",
        "    depth_arr = array.array('f', file.channel('R', Imath.PixelType(Imath.PixelType.FLOAT)))\n",
        "    depth = np.array(depth_arr).reshape((height, width))\n",
        "    depth[depth < 0] = 0\n",
        "    depth[np.isinf(depth)] = 0\n",
        "    depth[depth > 10] = 0\n",
        "    return depth\n",
        "\n",
        "def depth2pcd(depth, intrinsics, pose):\n",
        "    inv_K = np.linalg.inv(intrinsics)\n",
        "    inv_K[2, 2] = -1\n",
        "    depth = np.flipud(depth)\n",
        "    y, x = np.where(depth > 0)\n",
        "    # image coordinates -> camera coordinates\n",
        "    points = np.dot(inv_K, np.stack([x, y, np.ones_like(x)] * depth[y, x], 0))\n",
        "    # camera coordinates -> world coordinates\n",
        "    points = np.dot(pose, np.concatenate([points, np.ones((1, points.shape[1]))], 0)).T[:, :3]\n",
        "    return points\n",
        "\n",
        "def selectPoints(all_points):\n",
        "  normed_points_all = all_points-all_points.mean(axis=0)\n",
        "  unit_normed_points_all = (normed_points_all - normed_points_all.min(axis=0)) / (normed_points_all.max(axis=0) - normed_points_all.min(axis=0))\n",
        "  normed_points_all = unit_normed_points_all - 0.5\n",
        "  indices_selected = np.random.choice(np.arange(len(normed_points_all)), 16384, replace=False)\n",
        "  points_selected = normed_points_all[indices_selected,:]\n",
        "  return points_selected"
      ]
    },
    {
      "cell_type": "code",
      "execution_count": null,
      "metadata": {
        "id": "wEMPxlH02bpL"
      },
      "outputs": [],
      "source": [
        "N_POINT = 2048\n",
        "\n",
        "def depth2pcdNotNormed(depth, intrinsics, pose):\n",
        "    inv_K = np.linalg.inv(intrinsics)\n",
        "    inv_K[2, 2] = -1\n",
        "    depth = np.flipud(depth)\n",
        "    y, x = np.where(depth > 0)\n",
        "    # image coordinates -> camera coordinates\n",
        "    points = np.dot(inv_K, np.stack([x, y, np.ones_like(x)] * depth[y, x], 0))\n",
        "    return points.T[:, :3]\n",
        "\n",
        "def selectPointsWithoutNorm(all_points):\n",
        "  indices_selected = np.random.choice(np.arange(len(all_points)), N_POINT, replace=False)\n",
        "  points_selected = all_points[indices_selected,:]\n",
        "  return points_selected"
      ]
    },
    {
      "cell_type": "code",
      "execution_count": null,
      "metadata": {
        "id": "mQkuPQOdsmKI"
      },
      "outputs": [],
      "source": [
        "output_directory = os.path.join('/content','rendered_pcd_denormalized')\n",
        "os.makedirs(output_directory, exist_ok=True)"
      ]
    },
    {
      "cell_type": "code",
      "execution_count": null,
      "metadata": {
        "colab": {
          "base_uri": "https://localhost:8080/",
          "height": 17,
          "referenced_widgets": [
            "e49b26f4b36740baaa9712441f2ee677",
            "217e7a482ea14f218cc5ed1df4edd745",
            "9b8004c6d7a1415daafd840cb4460a2f",
            "da6d291451ad46c48d0c7b8f50cc5095",
            "6e385673c5a846ea9e48338438c5129a",
            "d049144f4fe9483e9a84b4500bd2855b",
            "6eab1b5f2f14455ba5363cd3dc9ce1a7",
            "aff9304a96604e5cabd558cf18e5d3ea",
            "da1a085f8cdb4d0b80950db4437388f5",
            "275d6ead23ca42cbb63a45ae3d3de800",
            "d832d8c5cd56493886ee2e401252894b"
          ]
        },
        "id": "2GWfld8HnBUI",
        "outputId": "b32b10aa-4743-44de-b8b1-af4716aec96a"
      },
      "outputs": [],
      "source": [
        "import json\n",
        "import open3d as o3d\n",
        "\n",
        "all_images_dir = os.path.join('/content','blender_images')\n",
        "\n",
        "for sample_name in tqdm(os.listdir(all_images_dir)):\n",
        "    if '.tar' in sample_name:\n",
        "        continue\n",
        "    sample_directory = os.path.join('/content','blender_images', sample_name, 'render')\n",
        "    if not os.path.isdir(sample_directory):\n",
        "        continue\n",
        "    transform_json_path = os.path.join(sample_directory, 'transforms.json')\n",
        "    depth_images_path = os.path.join(sample_directory, 'depths')\n",
        "\n",
        "\n",
        "    with open(transform_json_path, 'r') as jfile:\n",
        "      json_content = json.load(jfile)\n",
        "\n",
        "    depth_images_names = os.listdir(depth_images_path)\n",
        "    for depth_image_name in depth_images_names:\n",
        "      exr_path = os.path.join(depth_images_path, depth_image_name)\n",
        "      frame_name = depth_image_name.replace('_depth.exr', '')\n",
        "      frame_detail = [content for content in json_content['frames'] if content['file_path'] == frame_name][0]\n",
        "\n",
        "      depth = read_exr(exr_path, 800, 800)\n",
        "      depth = depth*1000\n",
        "      depth_img = Image(np.uint16(depth))\n",
        "\n",
        "      H = W = 800\n",
        "      camera_angle_x = json_content['camera_angle_x']\n",
        "      focal = .5 * W / np.tan(.5 * camera_angle_x)\n",
        "      camera_intrinsics = np.array([[focal, 0, H], [0, focal, W], [0,0,1]])\n",
        "      pose = frame_detail['transform_matrix']\n",
        "\n",
        "      points_all = depth2pcdNotNormed(depth_img, camera_intrinsics, pose)\n",
        "      points_selected = selectPointsWithoutNorm(points_all)\n",
        "\n",
        "      pcd = o3d.geometry.PointCloud()\n",
        "      pcd.points = o3d.utility.Vector3dVector(points_selected)\n",
        "\n",
        "      sample_output_directory = os.path.join(output_directory, sample_name)\n",
        "      os.makedirs(sample_output_directory, exist_ok=True)\n",
        "\n",
        "      open3d.io.write_point_cloud(os.path.join(sample_output_directory, '%s.pcd' % frame_name ), pcd)"
      ]
    },
    {
      "cell_type": "code",
      "execution_count": null,
      "metadata": {
        "id": "CbMx5L_K9Zag"
      },
      "outputs": [],
      "source": [
        "pcd = o3d.io.read_point_cloud('/content/rendered_pcd_denormalized/toy_plane_005/r_1.pcd')"
      ]
    },
    {
      "cell_type": "code",
      "execution_count": null,
      "metadata": {
        "colab": {
          "base_uri": "https://localhost:8080/",
          "height": 417
        },
        "id": "X1BJbDFto5DK",
        "outputId": "6d9d61a0-192e-438e-b54c-8d837bb78a67"
      },
      "outputs": [],
      "source": [
        "o3d.visualization.draw_plotly([pcd])"
      ]
    },
    {
      "cell_type": "code",
      "execution_count": null,
      "metadata": {
        "colab": {
          "base_uri": "https://localhost:8080/",
          "height": 1000
        },
        "id": "EzxBCa16_9jw",
        "outputId": "7690c07d-a808-4147-8d99-d7b00a75dfd6"
      },
      "outputs": [],
      "source": [
        "!pip install openxlab"
      ]
    },
    {
      "cell_type": "code",
      "execution_count": null,
      "metadata": {
        "colab": {
          "base_uri": "https://localhost:8080/"
        },
        "id": "ob47J0YZumks",
        "outputId": "e4380069-9d62-45a5-f888-ec28b14c436a"
      },
      "outputs": [],
      "source": [
        "!openxlab login"
      ]
    },
    {
      "cell_type": "code",
      "execution_count": null,
      "metadata": {
        "colab": {
          "base_uri": "https://localhost:8080/"
        },
        "collapsed": true,
        "id": "fHGXJCKsuwmR",
        "outputId": "abb8cd57-972e-477c-a7d7-58461a7d752e"
      },
      "outputs": [],
      "source": [
        "!openxlab dataset ls --dataset-repo omniobject3d/OmniObject3D-New"
      ]
    },
    {
      "cell_type": "code",
      "execution_count": null,
      "metadata": {
        "colab": {
          "base_uri": "https://localhost:8080/"
        },
        "collapsed": true,
        "id": "oL2LH2L5u7st",
        "outputId": "5c488715-00c3-4353-d5c4-529ccac63f8c"
      },
      "outputs": [],
      "source": [
        "!openxlab dataset download --dataset-repo omniobject3d/OmniObject3D-New --source-path /raw/blender_renders/toy_plane.tar.gz"
      ]
    },
    {
      "cell_type": "code",
      "execution_count": null,
      "metadata": {
        "colab": {
          "base_uri": "https://localhost:8080/"
        },
        "id": "Hja7UBqRw1Kk",
        "outputId": "53250562-6c6d-497d-ef97-108064ef8c76"
      },
      "outputs": [],
      "source": [
        "%cd /content\n",
        "!openxlab dataset download --dataset-repo omniobject3d/OmniObject3D-New --source-path /raw/blender_renders/toy_car.tar.gz"
      ]
    },
    {
      "cell_type": "code",
      "execution_count": null,
      "metadata": {
        "colab": {
          "base_uri": "https://localhost:8080/"
        },
        "id": "8IYARqw6vWHb",
        "outputId": "0fa15a70-cede-4a72-cbb5-f27d82208ded"
      },
      "outputs": [],
      "source": [
        "%cd /content/omniobject3d___OmniObject3D-New/raw/blender_renders"
      ]
    },
    {
      "cell_type": "code",
      "execution_count": null,
      "metadata": {
        "id": "Fg4_2Hz5wDc1"
      },
      "outputs": [],
      "source": [
        "!tar -xzf toy_plane.tar.gz"
      ]
    },
    {
      "cell_type": "code",
      "execution_count": null,
      "metadata": {
        "id": "lWDz7QElwD6Z"
      },
      "outputs": [],
      "source": [
        "!tar -xzf toy_car.tar.gz"
      ]
    }
  ],
  "metadata": {
    "colab": {
      "provenance": []
    },
    "kernelspec": {
      "display_name": "Python 3",
      "name": "python3"
    },
    "language_info": {
      "name": "python"
    },
    "widgets": {
      "application/vnd.jupyter.widget-state+json": {
        "217e7a482ea14f218cc5ed1df4edd745": {
          "model_module": "@jupyter-widgets/controls",
          "model_module_version": "2.0.0",
          "model_name": "HTMLModel",
          "state": {
            "_dom_classes": [],
            "_model_module": "@jupyter-widgets/controls",
            "_model_module_version": "2.0.0",
            "_model_name": "HTMLModel",
            "_view_count": null,
            "_view_module": "@jupyter-widgets/controls",
            "_view_module_version": "2.0.0",
            "_view_name": "HTMLView",
            "description": "",
            "description_allow_html": false,
            "layout": "IPY_MODEL_d049144f4fe9483e9a84b4500bd2855b",
            "placeholder": "​",
            "style": "IPY_MODEL_6eab1b5f2f14455ba5363cd3dc9ce1a7",
            "tabbable": null,
            "tooltip": null,
            "value": "100%"
          }
        },
        "275d6ead23ca42cbb63a45ae3d3de800": {
          "model_module": "@jupyter-widgets/base",
          "model_module_version": "2.0.0",
          "model_name": "LayoutModel",
          "state": {
            "_model_module": "@jupyter-widgets/base",
            "_model_module_version": "2.0.0",
            "_model_name": "LayoutModel",
            "_view_count": null,
            "_view_module": "@jupyter-widgets/base",
            "_view_module_version": "2.0.0",
            "_view_name": "LayoutView",
            "align_content": null,
            "align_items": null,
            "align_self": null,
            "border_bottom": null,
            "border_left": null,
            "border_right": null,
            "border_top": null,
            "bottom": null,
            "display": null,
            "flex": null,
            "flex_flow": null,
            "grid_area": null,
            "grid_auto_columns": null,
            "grid_auto_flow": null,
            "grid_auto_rows": null,
            "grid_column": null,
            "grid_gap": null,
            "grid_row": null,
            "grid_template_areas": null,
            "grid_template_columns": null,
            "grid_template_rows": null,
            "height": null,
            "justify_content": null,
            "justify_items": null,
            "left": null,
            "margin": null,
            "max_height": null,
            "max_width": null,
            "min_height": null,
            "min_width": null,
            "object_fit": null,
            "object_position": null,
            "order": null,
            "overflow": null,
            "padding": null,
            "right": null,
            "top": null,
            "visibility": null,
            "width": null
          }
        },
        "6e385673c5a846ea9e48338438c5129a": {
          "model_module": "@jupyter-widgets/base",
          "model_module_version": "2.0.0",
          "model_name": "LayoutModel",
          "state": {
            "_model_module": "@jupyter-widgets/base",
            "_model_module_version": "2.0.0",
            "_model_name": "LayoutModel",
            "_view_count": null,
            "_view_module": "@jupyter-widgets/base",
            "_view_module_version": "2.0.0",
            "_view_name": "LayoutView",
            "align_content": null,
            "align_items": null,
            "align_self": null,
            "border_bottom": null,
            "border_left": null,
            "border_right": null,
            "border_top": null,
            "bottom": null,
            "display": null,
            "flex": null,
            "flex_flow": null,
            "grid_area": null,
            "grid_auto_columns": null,
            "grid_auto_flow": null,
            "grid_auto_rows": null,
            "grid_column": null,
            "grid_gap": null,
            "grid_row": null,
            "grid_template_areas": null,
            "grid_template_columns": null,
            "grid_template_rows": null,
            "height": null,
            "justify_content": null,
            "justify_items": null,
            "left": null,
            "margin": null,
            "max_height": null,
            "max_width": null,
            "min_height": null,
            "min_width": null,
            "object_fit": null,
            "object_position": null,
            "order": null,
            "overflow": null,
            "padding": null,
            "right": null,
            "top": null,
            "visibility": null,
            "width": null
          }
        },
        "6eab1b5f2f14455ba5363cd3dc9ce1a7": {
          "model_module": "@jupyter-widgets/controls",
          "model_module_version": "2.0.0",
          "model_name": "HTMLStyleModel",
          "state": {
            "_model_module": "@jupyter-widgets/controls",
            "_model_module_version": "2.0.0",
            "_model_name": "HTMLStyleModel",
            "_view_count": null,
            "_view_module": "@jupyter-widgets/base",
            "_view_module_version": "2.0.0",
            "_view_name": "StyleView",
            "background": null,
            "description_width": "",
            "font_size": null,
            "text_color": null
          }
        },
        "9b8004c6d7a1415daafd840cb4460a2f": {
          "model_module": "@jupyter-widgets/controls",
          "model_module_version": "2.0.0",
          "model_name": "FloatProgressModel",
          "state": {
            "_dom_classes": [],
            "_model_module": "@jupyter-widgets/controls",
            "_model_module_version": "2.0.0",
            "_model_name": "FloatProgressModel",
            "_view_count": null,
            "_view_module": "@jupyter-widgets/controls",
            "_view_module_version": "2.0.0",
            "_view_name": "ProgressView",
            "bar_style": "success",
            "description": "",
            "description_allow_html": false,
            "layout": "IPY_MODEL_aff9304a96604e5cabd558cf18e5d3ea",
            "max": 33,
            "min": 0,
            "orientation": "horizontal",
            "style": "IPY_MODEL_da1a085f8cdb4d0b80950db4437388f5",
            "tabbable": null,
            "tooltip": null,
            "value": 33
          }
        },
        "aff9304a96604e5cabd558cf18e5d3ea": {
          "model_module": "@jupyter-widgets/base",
          "model_module_version": "2.0.0",
          "model_name": "LayoutModel",
          "state": {
            "_model_module": "@jupyter-widgets/base",
            "_model_module_version": "2.0.0",
            "_model_name": "LayoutModel",
            "_view_count": null,
            "_view_module": "@jupyter-widgets/base",
            "_view_module_version": "2.0.0",
            "_view_name": "LayoutView",
            "align_content": null,
            "align_items": null,
            "align_self": null,
            "border_bottom": null,
            "border_left": null,
            "border_right": null,
            "border_top": null,
            "bottom": null,
            "display": null,
            "flex": null,
            "flex_flow": null,
            "grid_area": null,
            "grid_auto_columns": null,
            "grid_auto_flow": null,
            "grid_auto_rows": null,
            "grid_column": null,
            "grid_gap": null,
            "grid_row": null,
            "grid_template_areas": null,
            "grid_template_columns": null,
            "grid_template_rows": null,
            "height": null,
            "justify_content": null,
            "justify_items": null,
            "left": null,
            "margin": null,
            "max_height": null,
            "max_width": null,
            "min_height": null,
            "min_width": null,
            "object_fit": null,
            "object_position": null,
            "order": null,
            "overflow": null,
            "padding": null,
            "right": null,
            "top": null,
            "visibility": null,
            "width": null
          }
        },
        "d049144f4fe9483e9a84b4500bd2855b": {
          "model_module": "@jupyter-widgets/base",
          "model_module_version": "2.0.0",
          "model_name": "LayoutModel",
          "state": {
            "_model_module": "@jupyter-widgets/base",
            "_model_module_version": "2.0.0",
            "_model_name": "LayoutModel",
            "_view_count": null,
            "_view_module": "@jupyter-widgets/base",
            "_view_module_version": "2.0.0",
            "_view_name": "LayoutView",
            "align_content": null,
            "align_items": null,
            "align_self": null,
            "border_bottom": null,
            "border_left": null,
            "border_right": null,
            "border_top": null,
            "bottom": null,
            "display": null,
            "flex": null,
            "flex_flow": null,
            "grid_area": null,
            "grid_auto_columns": null,
            "grid_auto_flow": null,
            "grid_auto_rows": null,
            "grid_column": null,
            "grid_gap": null,
            "grid_row": null,
            "grid_template_areas": null,
            "grid_template_columns": null,
            "grid_template_rows": null,
            "height": null,
            "justify_content": null,
            "justify_items": null,
            "left": null,
            "margin": null,
            "max_height": null,
            "max_width": null,
            "min_height": null,
            "min_width": null,
            "object_fit": null,
            "object_position": null,
            "order": null,
            "overflow": null,
            "padding": null,
            "right": null,
            "top": null,
            "visibility": null,
            "width": null
          }
        },
        "d832d8c5cd56493886ee2e401252894b": {
          "model_module": "@jupyter-widgets/controls",
          "model_module_version": "2.0.0",
          "model_name": "HTMLStyleModel",
          "state": {
            "_model_module": "@jupyter-widgets/controls",
            "_model_module_version": "2.0.0",
            "_model_name": "HTMLStyleModel",
            "_view_count": null,
            "_view_module": "@jupyter-widgets/base",
            "_view_module_version": "2.0.0",
            "_view_name": "StyleView",
            "background": null,
            "description_width": "",
            "font_size": null,
            "text_color": null
          }
        },
        "da1a085f8cdb4d0b80950db4437388f5": {
          "model_module": "@jupyter-widgets/controls",
          "model_module_version": "2.0.0",
          "model_name": "ProgressStyleModel",
          "state": {
            "_model_module": "@jupyter-widgets/controls",
            "_model_module_version": "2.0.0",
            "_model_name": "ProgressStyleModel",
            "_view_count": null,
            "_view_module": "@jupyter-widgets/base",
            "_view_module_version": "2.0.0",
            "_view_name": "StyleView",
            "bar_color": null,
            "description_width": ""
          }
        },
        "da6d291451ad46c48d0c7b8f50cc5095": {
          "model_module": "@jupyter-widgets/controls",
          "model_module_version": "2.0.0",
          "model_name": "HTMLModel",
          "state": {
            "_dom_classes": [],
            "_model_module": "@jupyter-widgets/controls",
            "_model_module_version": "2.0.0",
            "_model_name": "HTMLModel",
            "_view_count": null,
            "_view_module": "@jupyter-widgets/controls",
            "_view_module_version": "2.0.0",
            "_view_name": "HTMLView",
            "description": "",
            "description_allow_html": false,
            "layout": "IPY_MODEL_275d6ead23ca42cbb63a45ae3d3de800",
            "placeholder": "​",
            "style": "IPY_MODEL_d832d8c5cd56493886ee2e401252894b",
            "tabbable": null,
            "tooltip": null,
            "value": " 33/33 [03:03&lt;00:00,  6.25s/it]"
          }
        },
        "e49b26f4b36740baaa9712441f2ee677": {
          "model_module": "@jupyter-widgets/controls",
          "model_module_version": "2.0.0",
          "model_name": "HBoxModel",
          "state": {
            "_dom_classes": [],
            "_model_module": "@jupyter-widgets/controls",
            "_model_module_version": "2.0.0",
            "_model_name": "HBoxModel",
            "_view_count": null,
            "_view_module": "@jupyter-widgets/controls",
            "_view_module_version": "2.0.0",
            "_view_name": "HBoxView",
            "box_style": "",
            "children": [
              "IPY_MODEL_217e7a482ea14f218cc5ed1df4edd745",
              "IPY_MODEL_9b8004c6d7a1415daafd840cb4460a2f",
              "IPY_MODEL_da6d291451ad46c48d0c7b8f50cc5095"
            ],
            "layout": "IPY_MODEL_6e385673c5a846ea9e48338438c5129a",
            "tabbable": null,
            "tooltip": null
          }
        }
      }
    }
  },
  "nbformat": 4,
  "nbformat_minor": 0
}
